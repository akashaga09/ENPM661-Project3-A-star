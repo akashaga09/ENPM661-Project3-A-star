{
 "cells": [
  {
   "cell_type": "code",
   "execution_count": 1,
   "metadata": {},
   "outputs": [],
   "source": [
    "%matplotlib qt\n",
    "import numpy as np\n",
    "import matplotlib.pyplot as plt\n",
    "import math"
   ]
  },
  {
   "cell_type": "code",
   "execution_count": 19,
   "metadata": {},
   "outputs": [
    {
     "name": "stdout",
     "output_type": "stream",
     "text": [
      "Node0: \n",
      "[2, -2]\n",
      "Node1: \n",
      "[5, -4]\n",
      "Node2: \n",
      "[5, -3]\n",
      "Node3: \n",
      "[1, 1]\n"
     ]
    }
   ],
   "source": [
    "import matplotlib.pyplot as plt\n",
    "import numpy as np\n",
    "X0 = np.array((0))\n",
    "Y0= np.array((0))\n",
    "U0 = np.array((2))\n",
    "V0 = np.array((-2))\n",
    "fig, ax = plt.subplots()\n",
    "q0 = plt.quiver(X0, Y0, U0, V0,units='xy' ,scale=1,color= 'r',headwidth = \n",
    "1,headlength=0)\n",
    "Node=[X0+U0, Y0+V0]\n",
    "print('Node0: ')\n",
    "print(Node)\n",
    "X1 = np.array((2))\n",
    "Y1= np.array((-2))\n",
    "U1 = np.array((3))\n",
    "V1 = np.array((-2))\n",
    "q1 = plt.quiver(X1, Y1, U1, V1,units='xy' ,scale=1)\n",
    "Node1=[X1+U1, Y1+V1]\n",
    "print('Node1: ')\n",
    "print(Node1)\n",
    "X2 = np.array((2))\n",
    "Y2= np.array((-2))\n",
    "U2 = np.array((3))\n",
    "V2 = np.array((-1))\n",
    "q2 = ax.quiver(X2, Y2, U2, V2,units='xy' ,scale=1)\n",
    "Node2=[X2+U2, Y2+V2]\n",
    "print('Node2: ')\n",
    "print(Node2)\n",
    "X3 = np.array((2))\n",
    "Y3= np.array((-2))\n",
    "U3 = np.array((-1))\n",
    "V3 = np.array((3))\n",
    "q3 = ax.quiver(X3, Y3, U3, V3,units='xy' ,scale=1)\n",
    "Node3=[X3+U3, Y3+V3]\n",
    "print('Node3: ')\n",
    "print(Node3)\n",
    "plt.grid()\n",
    "ax.set_aspect('equal')\n",
    "plt.xlim(-10,10)\n",
    "plt.ylim(-10,10)\n",
    "plt.title('How to plot a vector in matplotlib ?',fontsize=10)\n",
    "plt.savefig('how_to_plot_a_vector_in_matplotlib_fig3.png', bbox_inches='tight')\n",
    "plt.show()\n",
    "#plt.close()"
   ]
  },
  {
   "cell_type": "code",
   "execution_count": 2,
   "metadata": {},
   "outputs": [],
   "source": [
    "DIST_THRESHOLD = 1\n",
    "ANG_THRESHOLD = 30\n",
    "STEP = 1"
   ]
  },
  {
   "cell_type": "code",
   "execution_count": 3,
   "metadata": {},
   "outputs": [],
   "source": [
    "#start = input(\"Enter start point coordinates (x,y,theta):- \")\n",
    "#goal = input(\"Enter goal point coordinates (x,y):- \")\n",
    "#robot_radius = input(\"Enter robot radius:- \")\n",
    "#clearance = input(\"Enter clearance value:- \")\n",
    "#step = input(\"Enter step size (between 1-10):- \")"
   ]
  },
  {
   "cell_type": "code",
   "execution_count": 82,
   "metadata": {},
   "outputs": [
    {
     "name": "stdout",
     "output_type": "stream",
     "text": [
      "[ 0.  0. 30.]\n",
      "[ 0.87  0.5  30.  ]\n",
      "[ 0.5   0.87 60.  ]\n",
      "[ 0.  1. 90.]\n",
      "[1. 0. 0.]\n",
      "[  0.87  -0.5  -30.  ]\n",
      "[ 0.  0. 30.]\n"
     ]
    }
   ],
   "source": [
    "start = np.array([0,0,30], dtype=\"float\")\n",
    "\n",
    "def move_straight(start):\n",
    "    new_node = np.array([0,0,0], dtype=\"float\")\n",
    "    angle = math.radians(start[2] + 0)\n",
    "    new_node[0] = round(start[0] + math.cos(angle), 2)\n",
    "    new_node[1] = round(start[1] + math.sin(angle), 2)\n",
    "    new_node[2] = start[2] + 0\n",
    "    return new_node\n",
    "\n",
    "def move_up_1(start):\n",
    "    new_node = np.array([0,0,0], dtype=\"float\")\n",
    "    angle = math.radians(start[2] + ANG_THRESHOLD)\n",
    "    new_node[0] = round(start[0] + math.cos(angle), 2)\n",
    "    new_node[1] = round(start[1] + math.sin(angle), 2)\n",
    "    new_node[2] = start[2] + ANG_THRESHOLD\n",
    "    return new_node\n",
    "\n",
    "def move_up_2(start):\n",
    "    new_node = np.array([0,0,0], dtype=\"float\")\n",
    "    angle = math.radians(start[2] + ANG_THRESHOLD*2)\n",
    "    new_node[0] = round(start[0] + math.cos(angle), 2)\n",
    "    new_node[1] = round(start[1] + math.sin(angle), 2)\n",
    "    new_node[2] = start[2] + ANG_THRESHOLD*2\n",
    "    return new_node\n",
    "\n",
    "def move_down_1(start):\n",
    "    new_node = np.array([0,0,0], dtype=\"float\")\n",
    "    angle = math.radians(start[2] - ANG_THRESHOLD)\n",
    "    new_node[0] = round(start[0] + math.cos(angle), 2)\n",
    "    new_node[1] = round(start[1] + math.sin(angle), 2)\n",
    "    new_node[2] = start[2] - ANG_THRESHOLD\n",
    "    return new_node\n",
    "\n",
    "def move_down_2(start):\n",
    "    new_node = np.array([0,0,0], dtype=\"float\")\n",
    "    angle = math.radians(start[2] - ANG_THRESHOLD*2)\n",
    "    new_node[0] = round(start[0] + math.cos(angle), 2)\n",
    "    new_node[1] = round(start[1] + math.sin(angle), 2)\n",
    "    new_node[2] = start[2] - ANG_THRESHOLD*2\n",
    "    return new_node\n",
    "\n",
    "print(start)\n",
    "print(move_straight(start))\n",
    "print(move_up_1(start))\n",
    "print(move_up_2(start))\n",
    "print(move_down_1(start))\n",
    "print(move_down_2(start))\n",
    "print(start)"
   ]
  },
  {
   "cell_type": "code",
   "execution_count": 83,
   "metadata": {},
   "outputs": [
    {
     "name": "stdout",
     "output_type": "stream",
     "text": [
      "[[[0. 0. 0. 0. 0. 0. 0. 0. 0. 0. 0. 0.]\n",
      "  [0. 0. 0. 0. 0. 0. 0. 0. 0. 0. 0. 0.]]\n",
      "\n",
      " [[0. 0. 0. 0. 0. 0. 0. 0. 0. 0. 0. 0.]\n",
      "  [0. 0. 0. 0. 0. 0. 0. 0. 0. 0. 0. 0.]]\n",
      "\n",
      " [[0. 0. 0. 0. 0. 0. 0. 0. 0. 0. 0. 0.]\n",
      "  [0. 0. 0. 0. 0. 0. 0. 0. 0. 0. 0. 0.]]]\n"
     ]
    }
   ],
   "source": [
    "visited = np.zeros([int(3/DIST_THRESHOLD),int(2/DIST_THRESHOLD),12])\n",
    "print(visited)"
   ]
  },
  {
   "cell_type": "code",
   "execution_count": 84,
   "metadata": {},
   "outputs": [],
   "source": [
    "def add_node(new_node, visited):  # math.modf(new_node[0])[0]\n",
    "    if new_node[0]%1 > DIST_THRESHOLD/2:\n",
    "        i = int(math.ceil(new_node[0])/DIST_THRESHOLD)\n",
    "    else:\n",
    "        i = int(math.floor(new_node[0])/DIST_THRESHOLD)\n",
    "        \n",
    "    if new_node[1]%1 > DIST_THRESHOLD/2:\n",
    "        j = int(math.ceil(new_node[1])/DIST_THRESHOLD)\n",
    "    else:\n",
    "        j = int(math.floor(new_node[1])/DIST_THRESHOLD)\n",
    "        \n",
    "    #if new_node[2] >= 360:\n",
    "     #   new_node[2] = new_node[2] - 360\n",
    "        \n",
    "    if 345 < new_node[2] <= 15:\n",
    "        k = 0\n",
    "    elif 15 < new_node[2] <= 45:\n",
    "        k = 1\n",
    "    elif 45 < new_node[2] <= 75:\n",
    "        k = 2\n",
    "    elif 75 < new_node[2] <= 105:\n",
    "        k = 3\n",
    "    elif 105 < new_node[2] <= 135:\n",
    "        k = 4\n",
    "    elif 135 < new_node[2] <= 165:\n",
    "        k = 5\n",
    "    elif 165 < new_node[2] <= 195:\n",
    "        k = 6\n",
    "    elif 195 < new_node[2] <= 225:\n",
    "        k = 7\n",
    "    elif 225 < new_node[2] <= 255:\n",
    "        k = 8\n",
    "    elif 255 < new_node[2] <= 285:\n",
    "        k = 9\n",
    "    elif 285 < new_node[2] <= 315:\n",
    "        k = 10\n",
    "    elif 315 < new_node[2] <= 345:\n",
    "        k = 11\n",
    "        \n",
    "    visited[i][j][k] = 1\n",
    "    return visited"
   ]
  },
  {
   "cell_type": "code",
   "execution_count": 85,
   "metadata": {},
   "outputs": [
    {
     "name": "stdout",
     "output_type": "stream",
     "text": [
      "[ -0.5    0.87 120.  ]\n",
      "[[[0. 0. 0. 0. 0. 0. 0. 0. 0. 0. 0. 0.]\n",
      "  [0. 0. 0. 0. 0. 0. 0. 0. 0. 0. 0. 0.]]\n",
      "\n",
      " [[0. 0. 0. 0. 0. 0. 0. 0. 0. 0. 0. 0.]\n",
      "  [0. 0. 0. 0. 0. 0. 0. 0. 0. 0. 0. 0.]]\n",
      "\n",
      " [[0. 0. 0. 0. 0. 0. 0. 0. 0. 0. 0. 0.]\n",
      "  [0. 0. 0. 0. 1. 0. 0. 0. 0. 0. 0. 0.]]]\n"
     ]
    }
   ],
   "source": [
    "start = np.array([0,0,90], dtype=\"float\")\n",
    "x = move_up_1(start)\n",
    "print(x)\n",
    "y = add_node(x, visited)\n",
    "print(y)"
   ]
  },
  {
   "cell_type": "code",
   "execution_count": null,
   "metadata": {},
   "outputs": [],
   "source": []
  }
 ],
 "metadata": {
  "kernelspec": {
   "display_name": "Python 3",
   "language": "python",
   "name": "python3"
  },
  "language_info": {
   "codemirror_mode": {
    "name": "ipython",
    "version": 3
   },
   "file_extension": ".py",
   "mimetype": "text/x-python",
   "name": "python",
   "nbconvert_exporter": "python",
   "pygments_lexer": "ipython3",
   "version": "3.6.5"
  }
 },
 "nbformat": 4,
 "nbformat_minor": 4
}
